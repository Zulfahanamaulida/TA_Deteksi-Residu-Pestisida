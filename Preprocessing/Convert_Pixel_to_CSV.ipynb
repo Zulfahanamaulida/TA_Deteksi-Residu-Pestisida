{
  "nbformat": 4,
  "nbformat_minor": 0,
  "metadata": {
    "colab": {
      "provenance": [],
      "authorship_tag": "ABX9TyNRbamzxY8tQA3veWG+aTEl",
      "include_colab_link": true
    },
    "kernelspec": {
      "name": "python3",
      "display_name": "Python 3"
    },
    "language_info": {
      "name": "python"
    }
  },
  "cells": [
    {
      "cell_type": "markdown",
      "metadata": {
        "id": "view-in-github",
        "colab_type": "text"
      },
      "source": [
        "<a href=\"https://colab.research.google.com/github/Zulfahanamaulida/TA_Deteksi-Residu-Pestisida/blob/main/Preprocessing/Convert_Pixel_to_CSV.ipynb\" target=\"_parent\"><img src=\"https://colab.research.google.com/assets/colab-badge.svg\" alt=\"Open In Colab\"/></a>"
      ]
    },
    {
      "cell_type": "code",
      "source": [
        "from PIL import Image\n",
        "import csv\n",
        "import os\n",
        "import pandas as pd\n",
        "from google.colab import drive"
      ],
      "metadata": {
        "id": "K-4RWmuFTHQx"
      },
      "execution_count": 1,
      "outputs": []
    },
    {
      "cell_type": "code",
      "source": [
        "# Mount Google Drive\n",
        "drive.mount('/content/drive')"
      ],
      "metadata": {
        "id": "iD0p-bJpTI_e",
        "colab": {
          "base_uri": "https://localhost:8080/"
        },
        "outputId": "17b3ddb4-a1ed-40f5-9822-ff2f447afcde"
      },
      "execution_count": 2,
      "outputs": [
        {
          "output_type": "stream",
          "name": "stdout",
          "text": [
            "Mounted at /content/drive\n"
          ]
        }
      ]
    },
    {
      "cell_type": "code",
      "execution_count": 23,
      "metadata": {
        "id": "JnXsS2VaSx5_",
        "colab": {
          "base_uri": "https://localhost:8080/"
        },
        "outputId": "192de291-6f8d-4c36-916c-1efdb7442211"
      },
      "outputs": [
        {
          "output_type": "stream",
          "name": "stderr",
          "text": [
            "<ipython-input-23-bd35283e6f13>:22: DeprecationWarning: ANTIALIAS is deprecated and will be removed in Pillow 10 (2023-07-01). Use LANCZOS or Resampling.LANCZOS instead.\n",
            "  img = img.resize((28, 28), Image.ANTIALIAS)\n"
          ]
        },
        {
          "output_type": "stream",
          "name": "stdout",
          "text": [
            "         label  pixel1  pixel2  pixel3  pixel4  pixel5  pixel6  pixel7  \\\n",
            "0    10000 ppm       0       0       0       0       0       0       0   \n",
            "1    10000 ppm       0       0       0       0       0       0       0   \n",
            "2    10000 ppm       0       0       0       0       0       0       0   \n",
            "3    10000 ppm       0       0       0       0       0       0       0   \n",
            "4    10000 ppm       0       0       0       0       0       0       0   \n",
            "..         ...     ...     ...     ...     ...     ...     ...     ...   \n",
            "145  10000 ppm       0       0       0       0       0       0       0   \n",
            "146  10000 ppm       0       0       0       0       0       0       0   \n",
            "147  10000 ppm       0       0       0       0       0       0       0   \n",
            "148  10000 ppm       0       0       0       0       0       0       0   \n",
            "149  10000 ppm       0       0       0       0       0       0       0   \n",
            "\n",
            "     pixel8  pixel9  ...  pixel775  pixel776  pixel777  pixel778  pixel779  \\\n",
            "0         0       0  ...         0         0         0         0         0   \n",
            "1         0       0  ...         0         0         0         0         0   \n",
            "2         0       0  ...         0         0         0         0         0   \n",
            "3         0       0  ...         0         0         0         0         0   \n",
            "4         0       0  ...         0         0         0         0         0   \n",
            "..      ...     ...  ...       ...       ...       ...       ...       ...   \n",
            "145       0       0  ...         0         0         0         0         0   \n",
            "146       0       0  ...         0         0         0         0         0   \n",
            "147       0       0  ...         0         0         0         0         0   \n",
            "148       0       0  ...         0         0         0         0         0   \n",
            "149       0       0  ...         0         0         0         0         0   \n",
            "\n",
            "     pixel780  pixel781  pixel782  pixel783  pixel784  \n",
            "0           0         0         0         0         0  \n",
            "1           0         0         0         0         0  \n",
            "2           0         0         0         0         0  \n",
            "3           0         0         0         0         0  \n",
            "4           0         0         0         0         0  \n",
            "..        ...       ...       ...       ...       ...  \n",
            "145         0         0         0         0         0  \n",
            "146         0         0         0         0         0  \n",
            "147         0         0         0         0         0  \n",
            "148         0         0         0         0         0  \n",
            "149         0         0         0         0         0  \n",
            "\n",
            "[150 rows x 785 columns]\n"
          ]
        }
      ],
      "source": [
        "def image_to_csv(image_folder, output_csv_path):\n",
        "    # Extract label from the folder path\n",
        "    label = os.path.basename(image_folder)\n",
        "\n",
        "    # Check if the input path is a directory\n",
        "    if os.path.isdir(image_folder):\n",
        "        # Iterate over all image files in the directory\n",
        "        for filename in os.listdir(image_folder):\n",
        "            # Check if the file is an image\n",
        "            if filename.lower().endswith(('.png', '.jpg', '.jpeg', '.gif', '.bmp')):\n",
        "                # Process each image file\n",
        "                process_image(os.path.join(image_folder, filename), label, output_csv_path)\n",
        "\n",
        "def process_image(image_path, label, output_csv_path):\n",
        "    # Open the image\n",
        "    img = Image.open(image_path)\n",
        "\n",
        "    # Convert the image to grayscale\n",
        "    img = img.convert('L')\n",
        "\n",
        "    # Resize the image to 28x28 pixels (Fashion MNIST image size)\n",
        "    img = img.resize((28, 28), Image.ANTIALIAS)\n",
        "\n",
        "    # Get pixel data\n",
        "    pixel_data = list(img.getdata())\n",
        "\n",
        "    # Reshape the pixel data to a 28x28 array\n",
        "    pixel_array = [pixel_data[i:i + 28] for i in range(0, len(pixel_data), 28)]\n",
        "\n",
        "    # Flatten the pixel array\n",
        "    flat_pixel_array = [pixel for row in pixel_array for pixel in row]\n",
        "\n",
        "    # Add the label to the beginning of the pixel values\n",
        "    csv_row = [label] + flat_pixel_array\n",
        "\n",
        "    # Save pixel values and label to the CSV file\n",
        "    with open(output_csv_path, 'a', newline='') as csvfile:  # Use 'a' for append mode\n",
        "        csvwriter = csv.writer(csvfile)\n",
        "        # Check if the file is empty, if yes, write the header\n",
        "        if os.stat(output_csv_path).st_size == 0:\n",
        "            csvwriter.writerow(['label'] + [f'pixel{i + 1}' for i in range(784)])  # Header\n",
        "        csvwriter.writerow(csv_row)\n",
        "\n",
        "    #print(f\"Image converted and saved to {output_csv_path}\")\n",
        "\n",
        "# Input and output path:\n",
        "image_folder = '/content/drive/MyDrive/Tugas Akhir_Zulfa Hana Maulida(1)/Preprocessing/ROI/Image/Multiclass/10000 ppm'\n",
        "output_csv_path = '/content/drive/MyDrive/Tugas Akhir_Zulfa Hana Maulida(1)/Preprocessing/ROI/Tabular/Multiclass/10000_ppm.csv'\n",
        "\n",
        "image_to_csv(image_folder, output_csv_path)\n",
        "\n",
        "df = pd.read_csv(output_csv_path)\n",
        "\n",
        "# Display the dataframe\n",
        "print(df)"
      ]
    }
  ]
}